{
 "cells": [
  {
   "cell_type": "markdown",
   "id": "69032b4b-b031-4020-beb0-e8dfd22b660e",
   "metadata": {},
   "source": [
    "# LangChain 实战：汽车销售聊天机器人"
   ]
  },
  {
   "cell_type": "markdown",
   "id": "0f3e2d5a-c2ff-4faf-b153-d1751c25fae0",
   "metadata": {},
   "source": [
    "## 使用 GPT-4 构造销售话术数据\n",
    "\n",
    "\n",
    "\n",
    "使用 ChatGPT 构造销售数据的 Prompt 示例：\n",
    "\n",
    "```\n",
    "你是经验丰富的汽车销售，现在培训职场新人，请给出100条实用的销售话术。\n",
    "\n",
    "每条销售话术以如下格式给出，需要带上序号，例如：\n",
    "1.\n",
    "[客户问题]\n",
    "[销售回答]\n",
    "\n",
    "```\n",
    "\n",
    "GPT-4 回复结果：\n",
    "\n",
    "```\n",
    "1.\n",
    "[客户问题]\n",
    "我在这个型号和那个型号之间犹豫不决，不知道该选哪个。\n",
    "[销售回答]\n",
    "理解您的困惑。让我们来仔细看看您的需求，来比较两种型号的性能参数以及它们各自的优势。这样，您可以依据您最关心的特点做出最好的选择。\n",
    "\n",
    "2.\n",
    "[客户问题]\n",
    "这辆车的油耗怎么样？\n",
    "[销售回答]\n",
    "这款车的燃油效率是其一大亮点，它的油耗在同级别车型中相当优秀。这不仅能减少您的加油次数，长期来看还能为您节省相当一部分开支。\n",
    "\n",
    "3.\n",
    "[客户问题]\n",
    "我需要考虑一下。\n",
    "[销售回答]\n",
    "我完全理解您需要时间来考虑这项重要投资。如果您有任何疑问或需要更多信息，我随时愿意协助。同时，如果您能在今天决定，我们有些特别优惠可以提供。\n",
    "\n",
    "4.\n",
    "[客户问题]\n",
    "这款车安全性能怎么样？\n",
    "[销售回答]\n",
    "我们非常重视乘客的安全，这款车配备了最新的安全技术和先进的驾驶辅助系统，确保您在任何行驶情况下都能得到最大程度的保护。\n",
    "\n",
    "5.\n",
    "[客户问题]\n",
    "我不太确定我是否有足够的预算。\n",
    "[销售回答]\n",
    "让我们来看看您的财务状况，并讨论我们的融资方案，包括可行的月付选项和当前的促销活动。我们的目标是为您找到既舒适又经济的解决方案。\n",
    "\n",
    "6.\n",
    "[客户问题]\n",
    "这款车的维修成本高吗？\n",
    "[销售回答]\n",
    "这款车的整体维护成本在行业中处于较低水平。它的可靠性和延长的保修期限意味着您将享受到持久的高性能和低维修费用。\n",
    "\n",
    "7.\n",
    "[客户问题]\n",
    "这款车是国产的还是进口的？\n",
    "[销售回答]\n",
    "这款车是国产的，但请不要让“国产”这个词误导您。它采用了许多国际标准的制造技术，并且在性能和可靠性方面可与许多进口车型相媲美。\n",
    "\n",
    "8.\n",
    "[客户问题]\n",
    "我听说今天有特别的优惠？\n",
    "[销售回答]\n",
    "确实如此，今天我们有几项不错的优惠和促销活动。除了可观的现金折扣之外，还有其他值得考虑的福利。我们可以详细讨论哪些优惠最适合您。\n",
    "\n",
    "9.\n",
    "[客户问题]\n",
    "这款车的再销售价值怎么样？\n",
    "[销售回答]\n",
    "很高兴您提到这一点，因为这款车的保值率是它的一大卖点。它的设计经典时尚，技术先进，因此无论现在还是几年后出售，都能保持良好的市场价值。\n",
    "\n",
    "10.\n",
    "[客户问题]\n",
    "这辆车的驾驶体验如何？\n",
    "[销售回答]\n",
    "这款车的驾驶体验非常棒。\n",
    "```\n",
    "\n",
    "\n",
    "## 使用 Document Transformers 模块来处理原始数据\n",
    "\n",
    "\n",
    "将 ChatGPT 生成的结果保存到 [real_car_sales_data.txt](real_car_sales_data.txt) 文件中"
   ]
  },
  {
   "cell_type": "code",
   "execution_count": 15,
   "id": "efcee928-b9f4-4e4a-b9fb-f6cbee21b642",
   "metadata": {},
   "outputs": [],
   "source": [
    "with open(\"real_car_sales_data.txt\", encoding=\"utf-8\") as f:\n",
    "    real_car_sales = f.read()"
   ]
  },
  {
   "cell_type": "markdown",
   "id": "a9119556-d2e3-4edf-be16-15837da156f1",
   "metadata": {},
   "source": [
    "### 使用 CharacterTextSplitter 来进行文本分割\n",
    "\n",
    "- 基于单字符来进行文本分割（separator）\n",
    "- 基于字符数来决定文本块长度（chunk_size）\n",
    "\n",
    "参考示例：\n",
    "\n",
    "```python\n",
    "from langchain.text_splitter import CharacterTextSplitter\n",
    "text_splitter = CharacterTextSplitter(        \n",
    "    separator = \"\\n\\n\",\n",
    "    chunk_size = 1000,\n",
    "    chunk_overlap  = 200,\n",
    "    length_function = len,\n",
    "    is_separator_regex = False,\n",
    ")\n",
    "```\n"
   ]
  },
  {
   "cell_type": "code",
   "execution_count": 16,
   "id": "dbe535b8-2bd8-4c31-91d7-eba8aa61b3ef",
   "metadata": {},
   "outputs": [],
   "source": [
    "from langchain.text_splitter import CharacterTextSplitter"
   ]
  },
  {
   "cell_type": "code",
   "execution_count": 31,
   "id": "a4f30d9b-9fc6-4860-a497-0aa8220b9284",
   "metadata": {},
   "outputs": [],
   "source": [
    "text_splitter = CharacterTextSplitter(        \n",
    "    separator = r'\\d+\\.',\n",
    "    chunk_size = 100,\n",
    "    chunk_overlap  = 0,\n",
    "    length_function = len,\n",
    "    is_separator_regex = True,\n",
    ")"
   ]
  },
  {
   "cell_type": "code",
   "execution_count": 32,
   "id": "530f3172-17a5-4924-ad17-284fbca422ae",
   "metadata": {},
   "outputs": [
    {
     "name": "stderr",
     "output_type": "stream",
     "text": [
      "Created a chunk of size 109, which is longer than the specified 100\n",
      "Created a chunk of size 101, which is longer than the specified 100\n",
      "Created a chunk of size 119, which is longer than the specified 100\n",
      "Created a chunk of size 116, which is longer than the specified 100\n",
      "Created a chunk of size 106, which is longer than the specified 100\n",
      "Created a chunk of size 105, which is longer than the specified 100\n",
      "Created a chunk of size 105, which is longer than the specified 100\n",
      "Created a chunk of size 101, which is longer than the specified 100\n",
      "Created a chunk of size 102, which is longer than the specified 100\n",
      "Created a chunk of size 116, which is longer than the specified 100\n",
      "Created a chunk of size 108, which is longer than the specified 100\n",
      "Created a chunk of size 104, which is longer than the specified 100\n",
      "Created a chunk of size 106, which is longer than the specified 100\n",
      "Created a chunk of size 187, which is longer than the specified 100\n",
      "Created a chunk of size 101, which is longer than the specified 100\n",
      "Created a chunk of size 118, which is longer than the specified 100\n",
      "Created a chunk of size 104, which is longer than the specified 100\n",
      "Created a chunk of size 101, which is longer than the specified 100\n",
      "Created a chunk of size 103, which is longer than the specified 100\n",
      "Created a chunk of size 122, which is longer than the specified 100\n",
      "Created a chunk of size 101, which is longer than the specified 100\n",
      "Created a chunk of size 117, which is longer than the specified 100\n",
      "Created a chunk of size 124, which is longer than the specified 100\n",
      "Created a chunk of size 174, which is longer than the specified 100\n",
      "Created a chunk of size 123, which is longer than the specified 100\n",
      "Created a chunk of size 114, which is longer than the specified 100\n",
      "Created a chunk of size 127, which is longer than the specified 100\n",
      "Created a chunk of size 124, which is longer than the specified 100\n"
     ]
    }
   ],
   "source": [
    "docs = text_splitter.create_documents([real_car_sales])"
   ]
  },
  {
   "cell_type": "code",
   "execution_count": 37,
   "id": "3956ec36-706e-4f43-88fc-d704f2984290",
   "metadata": {},
   "outputs": [
    {
     "data": {
      "text/plain": [
       "Document(page_content='[客户问题]\\n我在这个型号和那个型号之间犹豫不决，不知道该选哪个。\\n[销售回答]\\n理解您的困惑。让我们来仔细看看您的需求，来比较两种型号的性能参数以及它们各自的优势。这样，您可以依据您最关心的特点做出最好的选择。')"
      ]
     },
     "execution_count": 37,
     "metadata": {},
     "output_type": "execute_result"
    }
   ],
   "source": [
    "docs[0]"
   ]
  },
  {
   "cell_type": "code",
   "execution_count": 38,
   "id": "73b2d47a-27ae-4cd4-a72a-3809b4c22bff",
   "metadata": {},
   "outputs": [
    {
     "data": {
      "text/plain": [
       "100"
      ]
     },
     "execution_count": 38,
     "metadata": {},
     "output_type": "execute_result"
    }
   ],
   "source": [
    "len(docs)"
   ]
  },
  {
   "cell_type": "markdown",
   "id": "e4617858-ad9c-42eb-a4c3-6bfb7108cdd2",
   "metadata": {},
   "source": [
    "### 使用 Faiss 作为向量数据库，持久化存储房产销售 问答对（QA-Pair）"
   ]
  },
  {
   "cell_type": "code",
   "execution_count": 39,
   "id": "508c2ab2-e187-424f-a43c-ca3d3b1a0550",
   "metadata": {},
   "outputs": [],
   "source": [
    "from langchain.embeddings.openai import OpenAIEmbeddings\n",
    "from langchain.text_splitter import CharacterTextSplitter\n",
    "from langchain.vectorstores import FAISS\n",
    "import os\n",
    "\n",
    "BASE_URL = os.environ.get(\"BASE_URL\")\n",
    "API_KEY = os.environ.get(\"API_KEY\")\n",
    "\n",
    "db = FAISS.from_documents(docs, OpenAIEmbeddings(base_url=BASE_URL, api_key=API_KEY))"
   ]
  },
  {
   "cell_type": "code",
   "execution_count": 40,
   "id": "250e0873-95e2-4372-98a5-68c0feb304bb",
   "metadata": {},
   "outputs": [],
   "source": [
    "query = \"我担心这款车的燃油效率\""
   ]
  },
  {
   "cell_type": "code",
   "execution_count": 41,
   "id": "0d18fcc6-c2be-434b-b8de-9648ac6f83f4",
   "metadata": {},
   "outputs": [],
   "source": [
    "answer_list = db.similarity_search(query)"
   ]
  },
  {
   "cell_type": "code",
   "execution_count": 42,
   "id": "e689667e-7a45-40d6-9eae-4e52cbc7daab",
   "metadata": {},
   "outputs": [
    {
     "name": "stdout",
     "output_type": "stream",
     "text": [
      "[客户问题]\n",
      "这辆车的油耗怎么样？\n",
      "[销售回答]\n",
      "这款车的燃油效率是其一大亮点，它的油耗在同级别车型中相当优秀。这不仅能减少您的加油次数，长期来看还能为您节省相当一部分开支。\n",
      "\n",
      "[客户问题]\n",
      "油耗和养车成本是多少？\n",
      "[销售回答]\n",
      "这款车型在其类别中拥有极为竞争力的燃油效率，每公升可以行驶X公里。定期保养和一些基本的维护可以使您的续航里程达到最大化，从而进一步降低了养车成本。我们也提供透明的维护价格，没有隐藏费用。\n",
      "\n",
      "[客户问题]\n",
      "我想要一款低油耗的车型，你们有什么可以推荐的？\n",
      "[销售回答]\n",
      "我们有几款车型都是行业内燃油效率的佼佼者。我可以根据您的驾驶习惯和旅程需求为您推荐合适的低油耗车型。\n",
      "\n",
      "[客户问题]\n",
      "这辆车的碳排放量是多少？\n",
      "[销售回答]\n",
      "这款车采用了先进的环保技术，以减少排放和提高燃油效率。具体的碳排放量取决于您选择的车型和配置，但整体而言，它符合严格的环保标准。\n"
     ]
    }
   ],
   "source": [
    "for ans in answer_list:\n",
    "    print(ans.page_content + \"\\n\")"
   ]
  },
  {
   "cell_type": "code",
   "execution_count": 43,
   "id": "a6cc47bf-1566-472f-84d2-a46bd634907c",
   "metadata": {},
   "outputs": [],
   "source": [
    "db.save_local(\"real_car_sale\")"
   ]
  },
  {
   "cell_type": "markdown",
   "id": "0d5323e5-03fa-4c1c-b896-3ccc28af1857",
   "metadata": {},
   "source": [
    "### 使用 retriever 从向量数据库中获取结果\n",
    "\n",
    "#### 使用参数 `k` 指定返回结果数量\n"
   ]
  },
  {
   "cell_type": "code",
   "execution_count": 44,
   "id": "17f051c9-8676-48d1-a9a4-e69b52630faf",
   "metadata": {},
   "outputs": [],
   "source": [
    "# 实例化一个 TopK Retriever\n",
    "topK_retriever = db.as_retriever(search_kwargs={\"k\": 5})"
   ]
  },
  {
   "cell_type": "code",
   "execution_count": 45,
   "id": "e33024db-ca7b-4d68-9b0e-c31c15ded57d",
   "metadata": {},
   "outputs": [
    {
     "data": {
      "text/plain": [
       "VectorStoreRetriever(tags=['FAISS', 'OpenAIEmbeddings'], vectorstore=<langchain_community.vectorstores.faiss.FAISS object at 0x0000020672DBC100>, search_kwargs={'k': 5})"
      ]
     },
     "execution_count": 45,
     "metadata": {},
     "output_type": "execute_result"
    }
   ],
   "source": [
    "topK_retriever"
   ]
  },
  {
   "cell_type": "code",
   "execution_count": 46,
   "id": "7efb1414-859f-4818-bacd-e1e2edf34b95",
   "metadata": {},
   "outputs": [
    {
     "name": "stderr",
     "output_type": "stream",
     "text": [
      "D:\\anaconda3\\envs\\langchain\\lib\\site-packages\\langchain_core\\_api\\deprecation.py:139: LangChainDeprecationWarning: The method `BaseRetriever.get_relevant_documents` was deprecated in langchain-core 0.1.46 and will be removed in 0.3.0. Use invoke instead.\n",
      "  warn_deprecated(\n"
     ]
    },
    {
     "name": "stdout",
     "output_type": "stream",
     "text": [
      "[客户问题]\n",
      "这辆车的油耗怎么样？\n",
      "[销售回答]\n",
      "这款车的燃油效率是其一大亮点，它的油耗在同级别车型中相当优秀。这不仅能减少您的加油次数，长期来看还能为您节省相当一部分开支。\n",
      "\n",
      "[客户问题]\n",
      "油耗和养车成本是多少？\n",
      "[销售回答]\n",
      "这款车型在其类别中拥有极为竞争力的燃油效率，每公升可以行驶X公里。定期保养和一些基本的维护可以使您的续航里程达到最大化，从而进一步降低了养车成本。我们也提供透明的维护价格，没有隐藏费用。\n",
      "\n",
      "[客户问题]\n",
      "我想要一款低油耗的车型，你们有什么可以推荐的？\n",
      "[销售回答]\n",
      "我们有几款车型都是行业内燃油效率的佼佼者。我可以根据您的驾驶习惯和旅程需求为您推荐合适的低油耗车型。\n",
      "\n",
      "[客户问题]\n",
      "这辆车的碳排放量是多少？\n",
      "[销售回答]\n",
      "这款车采用了先进的环保技术，以减少排放和提高燃油效率。具体的碳排放量取决于您选择的车型和配置，但整体而言，它符合严格的环保标准。\n",
      "\n",
      "[客户问题]\n",
      "这款车油箱的容量是多少？\n",
      "[销售回答]\n",
      "这款车型的油箱容量为X升，这样的设计能够满足长途旅行的需求，减少加油的次数，让长途驾驶变得更加便捷和经济。\n"
     ]
    }
   ],
   "source": [
    "docs = topK_retriever.get_relevant_documents(query)\n",
    "for doc in docs:\n",
    "    print(doc.page_content + \"\\n\")"
   ]
  },
  {
   "cell_type": "code",
   "execution_count": 47,
   "id": "a3c4b62d-6f8f-461b-a4fb-41c8a404b831",
   "metadata": {},
   "outputs": [],
   "source": [
    "docs = topK_retriever.get_relevant_documents(\"我听说这个品牌的售后服务不是很好？\")"
   ]
  },
  {
   "cell_type": "code",
   "execution_count": 48,
   "id": "04cca3d7-23d9-491f-8350-faeb19861dec",
   "metadata": {},
   "outputs": [
    {
     "name": "stdout",
     "output_type": "stream",
     "text": [
      "[客户问题]\n",
      "贵公司提供哪些售后服务？\n",
      "[销售回答]\n",
      "我们提供全面的售后服务包括定期免费检查、维修服务和24小时道路救援，确保您获得最佳的车主体验和完全的心安理得。\n",
      "\n",
      "[客户问题]\n",
      "这款车的维修成本高吗？\n",
      "[销售回答]\n",
      "这款车的整体维护成本在行业中处于较低水平。它的可靠性和延长的保修期限意味着您将享受到持久的高性能和低维修费用。\n",
      "\n",
      "[客户问题]\n",
      "如果我不喜欢这款车，我能退还或换别的车型吗？\n",
      "[销售回答]\n",
      "我们有明确的满意保证政策。如果您在购车后的一定时间内对车辆不满意，我们提供退货或换车服务，具体条款我们会在购买时详细说明。\n",
      "\n",
      "[客户问题]\n",
      "你们能提供何种质量保证？\n",
      "[销售回答]\n",
      "我们对所有出售的车辆都非常有信心，并提供全面的质量保证。除了长期的保修之外，我们也提供了满意度保证，如果车辆在特定期限内有任何问题，您可以选择退换。\n",
      "\n",
      "[客户问题]\n",
      "新车有折旧吗？\n",
      "[销售回答]\n",
      "任何新车从购买开始都会有一定的折旧，但是我们所销售的车型以保值率高而闻名。我们的品牌也经常获得最佳残值奖项，这意味着您未来出售时可以得到更好的回报。\n"
     ]
    }
   ],
   "source": [
    "for doc in docs:\n",
    "    print(doc.page_content + \"\\n\")"
   ]
  },
  {
   "cell_type": "markdown",
   "id": "b335c9e5-bc01-4a47-916c-03bec0e7a839",
   "metadata": {},
   "source": [
    "#### 使用 similarity_score_threshold 设置阈值，提升结果的相关性质量"
   ]
  },
  {
   "cell_type": "code",
   "execution_count": 49,
   "id": "b1298956-6cf3-4a68-a3c2-a3149f64f156",
   "metadata": {},
   "outputs": [],
   "source": [
    "# 实例化一个 similarity_score_threshold Retriever\n",
    "retriever = db.as_retriever(\n",
    "    search_type=\"similarity_score_threshold\",\n",
    "    search_kwargs={\"score_threshold\": 0.8}\n",
    ")"
   ]
  },
  {
   "cell_type": "code",
   "execution_count": 50,
   "id": "d61167de-72ed-4618-a2e1-5df04784a3bc",
   "metadata": {},
   "outputs": [
    {
     "name": "stdout",
     "output_type": "stream",
     "text": [
      "[客户问题]\n",
      "这辆车的油耗怎么样？\n",
      "[销售回答]\n",
      "这款车的燃油效率是其一大亮点，它的油耗在同级别车型中相当优秀。这不仅能减少您的加油次数，长期来看还能为您节省相当一部分开支。\n",
      "\n",
      "[客户问题]\n",
      "油耗和养车成本是多少？\n",
      "[销售回答]\n",
      "这款车型在其类别中拥有极为竞争力的燃油效率，每公升可以行驶X公里。定期保养和一些基本的维护可以使您的续航里程达到最大化，从而进一步降低了养车成本。我们也提供透明的维护价格，没有隐藏费用。\n",
      "\n",
      "[客户问题]\n",
      "我想要一款低油耗的车型，你们有什么可以推荐的？\n",
      "[销售回答]\n",
      "我们有几款车型都是行业内燃油效率的佼佼者。我可以根据您的驾驶习惯和旅程需求为您推荐合适的低油耗车型。\n",
      "\n",
      "[客户问题]\n",
      "这辆车的碳排放量是多少？\n",
      "[销售回答]\n",
      "这款车采用了先进的环保技术，以减少排放和提高燃油效率。具体的碳排放量取决于您选择的车型和配置，但整体而言，它符合严格的环保标准。\n"
     ]
    }
   ],
   "source": [
    "docs = retriever.get_relevant_documents(query)\n",
    "for doc in docs:\n",
    "    print(doc.page_content + \"\\n\")"
   ]
  },
  {
   "cell_type": "code",
   "execution_count": null,
   "id": "548d1b52-6fa2-46d6-9218-908db572f380",
   "metadata": {},
   "outputs": [],
   "source": []
  },
  {
   "cell_type": "markdown",
   "id": "c31344ce-f952-4604-b700-fdbb34da1e28",
   "metadata": {},
   "source": [
    "### 提取向量数据库中的`销售回答`"
   ]
  },
  {
   "cell_type": "code",
   "execution_count": 51,
   "id": "25768463-da65-4762-978d-51c0c3a9c24b",
   "metadata": {},
   "outputs": [],
   "source": [
    "docs = retriever.get_relevant_documents(query)"
   ]
  },
  {
   "cell_type": "code",
   "execution_count": 71,
   "id": "4838d3da-dca3-4c31-80da-cec75760a833",
   "metadata": {},
   "outputs": [
    {
     "data": {
      "text/plain": [
       "'[客户问题]\\n这辆车的油耗怎么样？\\n[销售回答]\\n这款车的燃油效率是其一大亮点，它的油耗在同级别车型中相当优秀。这不仅能减少您的加油次数，长期来看还能为您节省相当一部分开支。'"
      ]
     },
     "execution_count": 71,
     "metadata": {},
     "output_type": "execute_result"
    }
   ],
   "source": [
    "docs[0].page_content"
   ]
  },
  {
   "cell_type": "code",
   "execution_count": 100,
   "id": "1ba30232-f468-4102-b70c-02c8b74da43d",
   "metadata": {},
   "outputs": [
    {
     "data": {
      "text/plain": [
       "['[客户问题]\\n这辆车的油耗怎么样？\\n',\n",
       " '\\n这款车的燃油效率是其一大亮点，它的油耗在同级别车型中相当优秀。这不仅能减少您的加油次数，长期来看还能为您节省相当一部分开支。']"
      ]
     },
     "execution_count": 100,
     "metadata": {},
     "output_type": "execute_result"
    }
   ],
   "source": [
    "docs[0].page_content.split(\"[销售回答]\")"
   ]
  },
  {
   "cell_type": "code",
   "execution_count": 103,
   "id": "bda8eb0c-eb1f-47b2-91ab-4c94ff71c3db",
   "metadata": {},
   "outputs": [],
   "source": [
    "ans = docs[0].page_content.split(\"[销售回答]\")[-1].lstrip('\\n')"
   ]
  },
  {
   "cell_type": "code",
   "execution_count": 104,
   "id": "917a3b6c-3149-42e2-b7b6-abebd94b7f72",
   "metadata": {},
   "outputs": [
    {
     "data": {
      "text/plain": [
       "'这款车的燃油效率是其一大亮点，它的油耗在同级别车型中相当优秀。这不仅能减少您的加油次数，长期来看还能为您节省相当一部分开支。'"
      ]
     },
     "execution_count": 104,
     "metadata": {},
     "output_type": "execute_result"
    }
   ],
   "source": [
    "ans"
   ]
  },
  {
   "cell_type": "markdown",
   "id": "b36b61a5-156d-4546-bbd1-8a983e94676b",
   "metadata": {},
   "source": [
    "#### 尝试各种问题"
   ]
  },
  {
   "cell_type": "code",
   "execution_count": 116,
   "id": "c311a656-e571-45d6-8690-88e4be2c2a65",
   "metadata": {},
   "outputs": [],
   "source": [
    "from typing import List\n",
    "\n",
    "def sales(query: str, score_threshold: float=0.8) -> List[str]:\n",
    "    retriever = db.as_retriever(search_type=\"similarity_score_threshold\", search_kwargs={\"score_threshold\": score_threshold})    \n",
    "    docs = retriever.get_relevant_documents(query)\n",
    "    ans_list = [doc.page_content.split(\"[销售回答]\")[-1].lstrip('\\n') for doc in docs]\n",
    "\n",
    "    return ans_list"
   ]
  },
  {
   "cell_type": "code",
   "execution_count": 117,
   "id": "2f4c6c08-b97c-4727-9aa1-a474d85a11e4",
   "metadata": {},
   "outputs": [
    {
     "name": "stdout",
     "output_type": "stream",
     "text": [
      "[]\n"
     ]
    },
    {
     "name": "stderr",
     "output_type": "stream",
     "text": [
      "D:\\anaconda3\\envs\\langchain\\lib\\site-packages\\langchain_core\\vectorstores\\base.py:796: UserWarning: No relevant docs were retrieved using the relevance score threshold 0.8\n",
      "  warnings.warn(\n"
     ]
    }
   ],
   "source": [
    "query = \"这个价格对我来说有点高\"\n",
    "\n",
    "print(sales(query))"
   ]
  },
  {
   "cell_type": "code",
   "execution_count": 118,
   "id": "11e3d8b6-839f-4b2f-b519-841e0271f95b",
   "metadata": {},
   "outputs": [
    {
     "name": "stdout",
     "output_type": "stream",
     "text": [
      "['由于这款车的安全评级非常高，保险公司通常会给予更优惠的保费。我可以帮您联系我们的保险合作伙伴，为您提供一个具体的保费报价。', '这款车的整体维护成本在行业中处于较低水平。它的可靠性和延长的保修期限意味着您将享受到持久的高性能和低维修费用。', '我们的车型设计时就考虑到了维修的便捷性和成本效益。我们还提供各种维修保养套餐，可以帮助您更好地管理维修成本。', '很高兴您提到这一点，因为这款车的保值率是它的一大卖点。它的设计经典时尚，技术先进，因此无论现在还是几年后出售，都能保持良好的市场价值。']\n"
     ]
    }
   ],
   "source": [
    "print(sales(query, 0.6))"
   ]
  },
  {
   "cell_type": "code",
   "execution_count": 119,
   "id": "fc5b030a-ae6f-4d42-9577-1420c78aecb1",
   "metadata": {},
   "outputs": [
    {
     "name": "stdout",
     "output_type": "stream",
     "text": [
      "score:0.8 ans: ['我们的车型设计时就考虑到了维修的便捷性和成本效益。我们还提供各种维修保养套餐，可以帮助您更好地管理维修成本。', '这款车的整体维护成本在行业中处于较低水平。它的可靠性和延长的保修期限意味着您将享受到持久的高性能和低维修费用。']\n",
      "\n",
      "score:0.75 ans: ['我们的车型设计时就考虑到了维修的便捷性和成本效益。我们还提供各种维修保养套餐，可以帮助您更好地管理维修成本。', '这款车的整体维护成本在行业中处于较低水平。它的可靠性和延长的保修期限意味着您将享受到持久的高性能和低维修费用。']\n",
      "\n",
      "score:0.5 ans: ['我们的车型设计时就考虑到了维修的便捷性和成本效益。我们还提供各种维修保养套餐，可以帮助您更好地管理维修成本。', '这款车的整体维护成本在行业中处于较低水平。它的可靠性和延长的保修期限意味着您将享受到持久的高性能和低维修费用。', '由于这款车的安全评级非常高，保险公司通常会给予更优惠的保费。我可以帮您联系我们的保险合作伙伴，为您提供一个具体的保费报价。', '这款车型在其类别中拥有极为竞争力的燃油效率，每公升可以行驶X公里。定期保养和一些基本的维护可以使您的续航里程达到最大化，从而进一步降低了养车成本。我们也提供透明的维护价格，没有隐藏费用。']\n"
     ]
    }
   ],
   "source": [
    "query = \"我听说维修成本很高昂\"\n",
    "\n",
    "print(f\"score:0.8 ans: {sales(query)}\\n\")\n",
    "print(f\"score:0.75 ans: {sales(query, 0.75)}\\n\")\n",
    "print(f\"score:0.5 ans: {sales(query, 0.5)}\\n\")"
   ]
  },
  {
   "cell_type": "markdown",
   "id": "9e26e6d7-259b-4ecf-9c72-027befba4e3b",
   "metadata": {},
   "source": [
    "#### 当向量数据库中没有合适答案时，使用大语言模型能力"
   ]
  },
  {
   "cell_type": "code",
   "execution_count": 120,
   "id": "9142feb4-980a-4142-b367-1401021dceef",
   "metadata": {},
   "outputs": [],
   "source": [
    "from langchain.chains import RetrievalQA\n",
    "from langchain_openai import ChatOpenAI\n",
    "import os\n",
    "\n",
    "BASE_URL = os.environ.get(\"BASE_URL\")\n",
    "API_KEY = os.environ.get(\"API_KEY\")\n",
    "\n",
    "llm = ChatOpenAI(model_name=\"gpt-4-1106-preview\", temperature=0.5, base_url=BASE_URL, api_key=API_KEY)\n",
    "qa_chain = RetrievalQA.from_chain_type(llm,\n",
    "                                       retriever=db.as_retriever(search_type=\"similarity_score_threshold\",\n",
    "                                                                 search_kwargs={\"score_threshold\": 0.8}))"
   ]
  },
  {
   "cell_type": "code",
   "execution_count": 121,
   "id": "d281b560-54bb-4a25-a1dc-b23874361654",
   "metadata": {},
   "outputs": [
    {
     "name": "stderr",
     "output_type": "stream",
     "text": [
      "D:\\anaconda3\\envs\\langchain\\lib\\site-packages\\langchain_core\\_api\\deprecation.py:139: LangChainDeprecationWarning: The method `Chain.__call__` was deprecated in langchain 0.1.0 and will be removed in 0.3.0. Use invoke instead.\n",
      "  warn_deprecated(\n"
     ]
    },
    {
     "data": {
      "text/plain": [
       "{'query': '我担心新车一旦驶出展厅会立即贬值',\n",
       " 'result': '我理解您的担忧，确实任何新车一旦驶出展厅都会有一定程度的贬值，这是汽车市场的普遍现象。不过，选择一款设计考虑到未来趋势的车型，可以在一定程度上减缓贬值速度。此外，我们提供的升级服务也能够帮助您的车辆保持现代化，这样可以在未来保持较高的转售价值。选择一款技术先进、风格经典的车型，长期来看是一个明智的决定。'}"
      ]
     },
     "execution_count": 121,
     "metadata": {},
     "output_type": "execute_result"
    }
   ],
   "source": [
    "qa_chain({\"query\": \"我担心新车一旦驶出展厅会立即贬值\"})"
   ]
  },
  {
   "cell_type": "code",
   "execution_count": 122,
   "id": "c6a30dcc-fa6b-4282-935c-b07902746e19",
   "metadata": {},
   "outputs": [
    {
     "name": "stderr",
     "output_type": "stream",
     "text": [
      "D:\\anaconda3\\envs\\langchain\\lib\\site-packages\\langchain_core\\vectorstores\\base.py:796: UserWarning: No relevant docs were retrieved using the relevance score threshold 0.8\n",
      "  warnings.warn(\n"
     ]
    },
    {
     "data": {
      "text/plain": [
       "{'query': '最贵的车是哪一辆?',\n",
       " 'result': '截至我知识更新的时间点（2023年），全球最贵的车辆可能会随着时间而变化，但历史上，一些车辆因其稀有性、品牌、历史和工艺而著称于世，其价值可能高达数百万美元。例如，法拉利250 GTO、劳斯莱斯Sweptail和布加迪La Voiture Noire等车型都是知名的高价车辆，其中布加迪La Voiture Noire的价格超过了1800万美元，成为了当时公开报道的最贵新车。\\n\\n然而，如果您是指最新的数据或者某个特定的拍卖记录，我可能无法提供最新的信息。汽车的价值可能会因为私人交易、拍卖结果或者制造商发布的新车而发生变化。如果您需要最新的信息，请查阅最新的新闻报道或者汽车拍卖结果。'}"
      ]
     },
     "execution_count": 122,
     "metadata": {},
     "output_type": "execute_result"
    }
   ],
   "source": [
    "qa_chain({\"query\": \"最贵的车是哪一辆?\"})"
   ]
  },
  {
   "cell_type": "code",
   "execution_count": 123,
   "id": "9da44bd6-02ef-4fb6-8e9e-7c99aeba483a",
   "metadata": {},
   "outputs": [
    {
     "name": "stdout",
     "output_type": "stream",
     "text": [
      "[]\n"
     ]
    },
    {
     "name": "stderr",
     "output_type": "stream",
     "text": [
      "D:\\anaconda3\\envs\\langchain\\lib\\site-packages\\langchain_core\\vectorstores\\base.py:796: UserWarning: No relevant docs were retrieved using the relevance score threshold 0.8\n",
      "  warnings.warn(\n"
     ]
    }
   ],
   "source": [
    "print(sales(\"最贵的车是哪一辆?\"))"
   ]
  },
  {
   "cell_type": "code",
   "execution_count": null,
   "id": "9764bb10-44ed-47c9-a351-a68f4f7d4f44",
   "metadata": {},
   "outputs": [],
   "source": []
  },
  {
   "cell_type": "markdown",
   "id": "0a0647e8-5b41-4c93-87c2-3240ec558717",
   "metadata": {},
   "source": [
    "## 加载 FAISS 向量数据库已有结果"
   ]
  },
  {
   "cell_type": "code",
   "execution_count": 124,
   "id": "913edd04-37ea-4c3f-9346-086aeb0ab447",
   "metadata": {},
   "outputs": [],
   "source": [
    "from langchain_openai import OpenAIEmbeddings\n",
    "from langchain.vectorstores import FAISS\n",
    "import os\n",
    "\n",
    "BASE_URL = os.environ.get(\"BASE_URL\")\n",
    "API_KEY = os.environ.get(\"API_KEY\")\n",
    "\n",
    "db = FAISS.load_local(\"real_car_sale\", OpenAIEmbeddings(base_url=BASE_URL, api_key=API_KEY), allow_dangerous_deserialization='True')"
   ]
  },
  {
   "cell_type": "code",
   "execution_count": 125,
   "id": "77d8eee4-6383-4b4a-9737-95ea9fc53b87",
   "metadata": {},
   "outputs": [
    {
     "name": "stderr",
     "output_type": "stream",
     "text": [
      "D:\\anaconda3\\envs\\langchain\\lib\\site-packages\\langchain_core\\_api\\deprecation.py:139: LangChainDeprecationWarning: The class `ChatOpenAI` was deprecated in LangChain 0.0.10 and will be removed in 0.3.0. An updated version of the class exists in the langchain-openai package and should be used instead. To use it run `pip install -U langchain-openai` and import as `from langchain_openai import ChatOpenAI`.\n",
      "  warn_deprecated(\n"
     ]
    }
   ],
   "source": [
    "from langchain.chains import RetrievalQA\n",
    "from langchain.chat_models import ChatOpenAI\n",
    "\n",
    "llm = ChatOpenAI(model_name=\"gpt-4\", temperature=0.5, base_url=BASE_URL, api_key=API_KEY)\n",
    "qa_chain = RetrievalQA.from_chain_type(llm,\n",
    "                                       retriever=db.as_retriever(search_type=\"similarity_score_threshold\",\n",
    "                                                                 search_kwargs={\"score_threshold\": 0.8}))"
   ]
  },
  {
   "cell_type": "code",
   "execution_count": 126,
   "id": "5dfac197-cadb-47d7-8cbe-1b07a83fc8e1",
   "metadata": {},
   "outputs": [
    {
     "data": {
      "text/plain": [
       "{'query': '哪种车是最推荐的？',\n",
       " 'result': '对不起，我无法给出具体的车型推荐，因为这需要根据您的具体需求、预算和驾驶环境来决定。但是，根据上面的信息，如果您有较大的家庭，SUV和多功能车(MPV)系列可能是个好选择。'}"
      ]
     },
     "execution_count": 126,
     "metadata": {},
     "output_type": "execute_result"
    }
   ],
   "source": [
    "qa_chain({\"query\": \"哪种车是最推荐的？\"})"
   ]
  },
  {
   "cell_type": "code",
   "execution_count": 127,
   "id": "fc393afc-06d3-4483-bd24-efe000ef5f2a",
   "metadata": {},
   "outputs": [],
   "source": [
    "# 输出内部 Chain 的日志\n",
    "qa_chain.combine_documents_chain.verbose = True"
   ]
  },
  {
   "cell_type": "code",
   "execution_count": 128,
   "id": "013c313a-5e7c-48d1-8ed4-eee96e50a99c",
   "metadata": {},
   "outputs": [
    {
     "name": "stdout",
     "output_type": "stream",
     "text": [
      "\n",
      "\n",
      "\u001B[1m> Entering new StuffDocumentsChain chain...\u001B[0m\n",
      "\n",
      "\u001B[1m> Finished chain.\u001B[0m\n"
     ]
    },
    {
     "data": {
      "text/plain": [
       "{'query': '哪种车是最推荐的？',\n",
       " 'result': '对不起，我不能直接告诉你哪种车是最推荐的，因为这取决于你的具体需求，包括你的预算、驾驶环境、旅程需求等。销售人员会根据这些信息向你推荐几款最适合你的车型。'}"
      ]
     },
     "execution_count": 128,
     "metadata": {},
     "output_type": "execute_result"
    }
   ],
   "source": [
    "qa_chain({\"query\": \"哪种车是最推荐的？\"})"
   ]
  },
  {
   "cell_type": "code",
   "execution_count": 129,
   "id": "e5fb0943-ffe9-4270-8dbe-f5f5314e6042",
   "metadata": {},
   "outputs": [],
   "source": [
    "# 返回向量数据库的检索结果\n",
    "qa_chain.return_source_documents = True"
   ]
  },
  {
   "cell_type": "code",
   "execution_count": 130,
   "id": "fbc1741e-d34f-4df5-874b-02b78e8cd67a",
   "metadata": {},
   "outputs": [
    {
     "name": "stdout",
     "output_type": "stream",
     "text": [
      "\n",
      "\n",
      "\u001B[1m> Entering new StuffDocumentsChain chain...\u001B[0m\n",
      "\n",
      "\u001B[1m> Finished chain.\u001B[0m\n"
     ]
    }
   ],
   "source": [
    "result = qa_chain({\"query\": \"哪种车是最推荐的？\"})"
   ]
  },
  {
   "cell_type": "code",
   "execution_count": 131,
   "id": "fac8309c-033c-4144-ada0-08e74fa9bf2d",
   "metadata": {},
   "outputs": [
    {
     "data": {
      "text/plain": [
       "{'query': '哪种车是最推荐的？',\n",
       " 'result': '对不起，我无法提供具体的推荐，因为这需要根据您的个人需求和预算来决定。例如，如果您需要大量的空间和乘坐人数多，可能会推荐SUV或MPV。如果您关心燃油效率，可能会推荐一些低油耗车型。最好的建议是与销售人员进行详细的讨论，他们可以根据您的具体需求为您推荐最合适的车型。',\n",
       " 'source_documents': [Document(page_content='[客户问题]\\n我该怎么选择合适的车款？\\n[销售回答]\\n首先，我们将讨论您的日常用车需求，包括乘客数量、驾驶环境和预算。然后，我会根据这些信息向您推荐几款最适合您的车型，帮助您做出最佳选择。'),\n",
       "  Document(page_content='[客户问题]\\n我想要一款低油耗的车型，你们有什么可以推荐的？\\n[销售回答]\\n我们有几款车型都是行业内燃油效率的佼佼者。我可以根据您的驾驶习惯和旅程需求为您推荐合适的低油耗车型。'),\n",
       "  Document(page_content='[客户问题]\\n我们有一大家人，你推荐哪款车？\\n[销售回答]\\n考虑到您家庭的需求，我建议您了解我们的SUV和多功能车(MPV)系列。这些车型提供充足的空间、高安全标准以及适合家用的娱乐系统选项。')]}"
      ]
     },
     "execution_count": 131,
     "metadata": {},
     "output_type": "execute_result"
    }
   ],
   "source": [
    "result"
   ]
  },
  {
   "cell_type": "code",
   "execution_count": null,
   "id": "37de84df-999f-4469-9bbe-de9c95c6f6b3",
   "metadata": {},
   "outputs": [],
   "source": []
  }
 ],
 "metadata": {
  "kernelspec": {
   "display_name": "Python 3 (ipykernel)",
   "language": "python",
   "name": "python3"
  },
  "language_info": {
   "codemirror_mode": {
    "name": "ipython",
    "version": 3
   },
   "file_extension": ".py",
   "mimetype": "text/x-python",
   "name": "python",
   "nbconvert_exporter": "python",
   "pygments_lexer": "ipython3",
   "version": "3.10.14"
  }
 },
 "nbformat": 4,
 "nbformat_minor": 5
}
